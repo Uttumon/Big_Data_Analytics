{
  "nbformat": 4,
  "nbformat_minor": 0,
  "metadata": {
    "colab": {
      "provenance": [],
      "authorship_tag": "ABX9TyMER9fOSQPJzBclfhZ4CXsr",
      "include_colab_link": true
    },
    "kernelspec": {
      "name": "python3",
      "display_name": "Python 3"
    },
    "language_info": {
      "name": "python"
    }
  },
  "cells": [
    {
      "cell_type": "markdown",
      "metadata": {
        "id": "view-in-github",
        "colab_type": "text"
      },
      "source": [
        "<a href=\"https://colab.research.google.com/github/Uttumon/Big_Data_Analytics/blob/main/BDA3_3.ipynb\" target=\"_parent\"><img src=\"https://colab.research.google.com/assets/colab-badge.svg\" alt=\"Open In Colab\"/></a>"
      ]
    },
    {
      "cell_type": "code",
      "execution_count": null,
      "metadata": {
        "colab": {
          "base_uri": "https://localhost:8080/"
        },
        "id": "FdQzI55Tip7G",
        "outputId": "0b9868fe-6dbd-46c0-8c19-e82b93585fb8"
      },
      "outputs": [
        {
          "output_type": "stream",
          "name": "stdout",
          "text": [
            "+---+------------+-------------------+\n",
            "| id|sensor_value|          timestamp|\n",
            "+---+------------+-------------------+\n",
            "|  1|          10|2025-04-10 09:56:17|\n",
            "|  2|          20|2025-04-10 09:56:17|\n",
            "|  3|          30|2025-04-10 09:56:17|\n",
            "|  4|          40|2025-04-10 09:56:17|\n",
            "|  5|          50|2025-04-10 09:56:17|\n",
            "+---+------------+-------------------+\n",
            "only showing top 5 rows\n",
            "\n",
            "+---+------------+-------------------+-------------+\n",
            "| id|sensor_value|          timestamp|sensor_status|\n",
            "+---+------------+-------------------+-------------+\n",
            "|  1|          10|2025-04-10 09:56:17|        false|\n",
            "|  2|          20|2025-04-10 09:56:17|        false|\n",
            "|  3|          30|2025-04-10 09:56:17|        false|\n",
            "|  4|          40|2025-04-10 09:56:17|        false|\n",
            "|  5|          50|2025-04-10 09:56:17|        false|\n",
            "+---+------------+-------------------+-------------+\n",
            "only showing top 5 rows\n",
            "\n",
            "Processed data stored successfully!\n"
          ]
        }
      ],
      "source": [
        "from pyspark.sql import SparkSession\n",
        "from pyspark.sql.functions import col, from_json\n",
        "from pyspark.sql.types import StructType, StructField, StringType, IntegerType\n",
        "import time\n",
        "\n",
        "# Step 1: Initialize Spark Session\n",
        "spark = SparkSession.builder.appName(\"RealTimeDataProcessing\").getOrCreate()\n",
        "\n",
        "# Step 2: Define Data Schema\n",
        "data_schema = StructType([\n",
        "    StructField(\"id\", IntegerType(), True),\n",
        "    StructField(\"sensor_value\", IntegerType(), True),\n",
        "    StructField(\"timestamp\", StringType(), True)\n",
        "])\n",
        "\n",
        "# Step 3: Simulate Real-Time Data Stream\n",
        "data_stream = [\n",
        "    {\"id\": i, \"sensor_value\": i * 10, \"timestamp\": time.strftime('%Y-%m-%d %H:%M:%S')}\n",
        "    for i in range(1, 101)\n",
        "]\n",
        "data_df = spark.createDataFrame(data_stream)=\n",
        "data_df.show(5)\n",
        "\n",
        "# Step 4: Process Data Stream\n",
        "processed_df = data_df.withColumn(\"sensor_status\", col(\"sensor_value\") > 500)\n",
        "processed_df.show(5)\n",
        "\n",
        "# Step 5: Store Processed Data\n",
        "processed_df.write.mode(\"overwrite\").csv(\"/tmp/processed_data\")\n",
        "print(\"Processed data stored successfully!\")"
      ]
    }
  ]
}