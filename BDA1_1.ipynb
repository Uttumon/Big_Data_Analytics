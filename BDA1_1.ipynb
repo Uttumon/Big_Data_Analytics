{
  "nbformat": 4,
  "nbformat_minor": 0,
  "metadata": {
    "colab": {
      "provenance": [],
      "include_colab_link": true
    },
    "kernelspec": {
      "name": "python3",
      "display_name": "Python 3"
    },
    "language_info": {
      "name": "python"
    }
  },
  "cells": [
    {
      "cell_type": "markdown",
      "metadata": {
        "id": "view-in-github",
        "colab_type": "text"
      },
      "source": [
        "<a href=\"https://colab.research.google.com/github/Uttumon/Big_Data_Analytics/blob/main/BDA1_1.ipynb\" target=\"_parent\"><img src=\"https://colab.research.google.com/assets/colab-badge.svg\" alt=\"Open In Colab\"/></a>"
      ]
    },
    {
      "cell_type": "code",
      "execution_count": null,
      "metadata": {
        "colab": {
          "base_uri": "https://localhost:8080/"
        },
        "id": "imWOvKwtmO0n",
        "outputId": "2a7aca3e-4d19-451a-e92c-454ef11ec84e"
      },
      "outputs": [
        {
          "output_type": "stream",
          "name": "stdout",
          "text": [
            "Volume: (932946, 10)\n",
            "Variety: road_id                int64\n",
            "day_id                 int64\n",
            "time_id                int64\n",
            "speed                float64\n",
            "timestamp             object\n",
            "weather_condition     object\n",
            "traffic_density        int64\n",
            "time_interval        float64\n",
            "speed_change         float64\n",
            "velocity             float64\n",
            "dtype: object\n",
            "Unique Values: road_id                 209\n",
            "day_id                   31\n",
            "time_id                 144\n",
            "speed                 59765\n",
            "timestamp            932946\n",
            "weather_condition         4\n",
            "traffic_density         500\n",
            "time_interval             1\n",
            "speed_change         102856\n",
            "velocity              75387\n",
            "dtype: int64\n",
            "Velocity: 0 days 00:01:00\n",
            "Missing Data: road_id                  0\n",
            "day_id                   0\n",
            "time_id                  0\n",
            "speed                18572\n",
            "timestamp                0\n",
            "weather_condition        0\n",
            "traffic_density          0\n",
            "time_interval            1\n",
            "speed_change         36774\n",
            "velocity             36774\n",
            "dtype: int64\n",
            "Value Analysis:              road_id         day_id        time_id          speed  \\\n",
            "count  932946.000000  932946.000000  932946.000000  914374.000000   \n",
            "mean      107.591880      15.999775      72.501833      39.315914   \n",
            "min         1.000000       1.000000       1.000000       1.479000   \n",
            "25%        54.000000       8.000000      37.000000      32.788000   \n",
            "50%       107.000000      16.000000      73.000000      39.594000   \n",
            "75%       162.000000      24.000000     109.000000      46.414000   \n",
            "max       214.000000      31.000000     144.000000      93.825000   \n",
            "std        62.140831       8.944332      41.567622      10.522345   \n",
            "\n",
            "                           timestamp  traffic_density  time_interval  \\\n",
            "count                         932946    932946.000000       932945.0   \n",
            "mean   2023-11-20 22:32:30.000001024       249.595147           60.0   \n",
            "min              2023-01-01 00:00:00         0.000000           60.0   \n",
            "25%              2023-06-11 23:16:15       125.000000           60.0   \n",
            "50%              2023-11-20 22:32:30       250.000000           60.0   \n",
            "75%              2024-04-30 21:48:45       375.000000           60.0   \n",
            "max              2024-10-09 21:05:00       499.000000           60.0   \n",
            "std                              NaN       144.280034            0.0   \n",
            "\n",
            "        speed_change       velocity  \n",
            "count  896172.000000  896172.000000  \n",
            "mean       -0.000323      -0.000005  \n",
            "min       -41.430000      -0.690500  \n",
            "25%        -1.469000      -0.024483  \n",
            "50%         0.018000       0.000300  \n",
            "75%         1.474000       0.024567  \n",
            "max        48.513000       0.808550  \n",
            "std         3.061787       0.051030  \n"
          ]
        }
      ],
      "source": [
        "import pandas as pd\n",
        "import numpy as np\n",
        "\n",
        "def analyze_big_data(dataset_path):\n",
        "    # Load the dataset\n",
        "    data = pd.read_csv(dataset_path)\n",
        "\n",
        "    # Volume - Count number of rows and columns\n",
        "    volume = data.shape\n",
        "\n",
        "    # Variety - Check data types and unique values\n",
        "    variety = data.dtypes\n",
        "    unique_values = data.nunique()\n",
        "\n",
        "    # Velocity - Estimate update frequency (if time-based data available)\n",
        "    if 'timestamp' in data.columns:\n",
        "        data['timestamp'] = pd.to_datetime(data['timestamp'])\n",
        "        velocity = data['timestamp'].diff().mean()  # Average time between entries\n",
        "    else:\n",
        "        velocity = \"Not Applicable\"\n",
        "\n",
        "    # Veracity - Check for missing values or inconsistencies\n",
        "    missing_data = data.isnull().sum()\n",
        "\n",
        "    # Value - Perform basic analysis (e.g., mean, median)\n",
        "    value = data.describe()  # Summary statistics\n",
        "\n",
        "    # Return all 5 V's results\n",
        "    return volume, variety, unique_values, velocity, missing_data, value\n",
        "\n",
        "# Example usage\n",
        "dataset_path = 'speeddata_Aug_updated_with_velocity.csv'\n",
        "volume, variety, unique_values, velocity, missing_data, value = analyze_big_data(dataset_path)\n",
        "\n",
        "# Output results\n",
        "print(\"Volume:\", volume)\n",
        "print(\"Variety:\", variety)\n",
        "print(\"Unique Values:\", unique_values)\n",
        "print(\"Velocity:\", velocity)\n",
        "print(\"Missing Data:\", missing_data)\n",
        "print(\"Value Analysis:\", value)"
      ]
    }
  ]
}