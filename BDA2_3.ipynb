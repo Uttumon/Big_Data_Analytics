{
  "nbformat": 4,
  "nbformat_minor": 0,
  "metadata": {
    "colab": {
      "provenance": [],
      "authorship_tag": "ABX9TyMlTO9TVGcCWsOOW8pZqcoX",
      "include_colab_link": true
    },
    "kernelspec": {
      "name": "python3",
      "display_name": "Python 3"
    },
    "language_info": {
      "name": "python"
    }
  },
  "cells": [
    {
      "cell_type": "markdown",
      "metadata": {
        "id": "view-in-github",
        "colab_type": "text"
      },
      "source": [
        "<a href=\"https://colab.research.google.com/github/Uttumon/Big_Data_Analytics/blob/main/BDA2_3.ipynb\" target=\"_parent\"><img src=\"https://colab.research.google.com/assets/colab-badge.svg\" alt=\"Open In Colab\"/></a>"
      ]
    },
    {
      "cell_type": "code",
      "source": [
        "!pip install transformers pandas\n",
        "\n",
        "from transformers import pipeline\n",
        "import pandas as pd\n",
        "import time\n",
        "\n",
        "# Load Sentiment Analysis Model\n",
        "sentiment_pipeline = pipeline(\"sentiment-analysis\", model=\"distilbert-base-uncased-finetuned-sst-2-english\")\n",
        "\n",
        "# Sample Data (excluding NEUTRAL label to match model's capabilities)\n",
        "data = {\n",
        "    \"review\": [\n",
        "        \"I love this product! It's amazing.\",\n",
        "        \"The food was terrible and overpriced.\",\n",
        "        \"Fantastic movie! Highly recommend.\",\n",
        "        \"The service was slow and unprofessional.\"\n",
        "    ],\n",
        "    \"label\": [1, -1, 1, -1]  # Only POSITIVE (1) and NEGATIVE (-1)\n",
        "}\n",
        "\n",
        "# Save to CSV\n",
        "df = pd.DataFrame(data)\n",
        "df.to_csv(\"big_data_reviews.csv\", index=False)\n",
        "print(\"Dataset saved as big_data_reviews.csv\")\n",
        "\n",
        "# Evaluation Function\n",
        "def evaluate_huggingface(data, sample_size=1000):\n",
        "    start_time = time.time()\n",
        "    correct = 0\n",
        "    total = min(sample_size, len(data))\n",
        "\n",
        "    for i, row in data[:total].iterrows():\n",
        "        text = row['review']\n",
        "        expected_sentiment = row['label']  # 1=Positive, -1=Negative\n",
        "\n",
        "        try:\n",
        "            response = sentiment_pipeline(text)\n",
        "            predicted_label = response[0]['label']  # 'POSITIVE' or 'NEGATIVE'\n",
        "            predicted_value = {'NEGATIVE': -1, 'POSITIVE': 1}.get(predicted_label)\n",
        "\n",
        "            if predicted_value == expected_sentiment:\n",
        "                correct += 1\n",
        "        except Exception as e:\n",
        "            print(f\"Error processing review [{i}]: {e}\")\n",
        "\n",
        "    accuracy = correct / total\n",
        "    execution_time = time.time() - start_time\n",
        "    return {'accuracy': accuracy, 'execution_time': execution_time}\n",
        "\n",
        "# Load dataset\n",
        "data = pd.read_csv(\"big_data_reviews.csv\")\n",
        "\n",
        "# Run evaluation\n",
        "results = evaluate_huggingface(data)\n",
        "print(f\"Hugging Face Model Accuracy: {results['accuracy']:.2f}, Execution Time: {results['execution_time']:.2f} seconds\")\n"
      ],
      "metadata": {
        "colab": {
          "base_uri": "https://localhost:8080/"
        },
        "id": "YGv9jmztNWJN",
        "outputId": "ea0a5e45-e363-454f-8492-8d95a90ce4c7"
      },
      "execution_count": 19,
      "outputs": [
        {
          "output_type": "stream",
          "name": "stdout",
          "text": [
            "Requirement already satisfied: transformers in /usr/local/lib/python3.11/dist-packages (4.51.3)\n",
            "Requirement already satisfied: pandas in /usr/local/lib/python3.11/dist-packages (2.2.2)\n",
            "Requirement already satisfied: filelock in /usr/local/lib/python3.11/dist-packages (from transformers) (3.18.0)\n",
            "Requirement already satisfied: huggingface-hub<1.0,>=0.30.0 in /usr/local/lib/python3.11/dist-packages (from transformers) (0.30.2)\n",
            "Requirement already satisfied: numpy>=1.17 in /usr/local/lib/python3.11/dist-packages (from transformers) (2.0.2)\n",
            "Requirement already satisfied: packaging>=20.0 in /usr/local/lib/python3.11/dist-packages (from transformers) (24.2)\n",
            "Requirement already satisfied: pyyaml>=5.1 in /usr/local/lib/python3.11/dist-packages (from transformers) (6.0.2)\n",
            "Requirement already satisfied: regex!=2019.12.17 in /usr/local/lib/python3.11/dist-packages (from transformers) (2024.11.6)\n",
            "Requirement already satisfied: requests in /usr/local/lib/python3.11/dist-packages (from transformers) (2.32.3)\n",
            "Requirement already satisfied: tokenizers<0.22,>=0.21 in /usr/local/lib/python3.11/dist-packages (from transformers) (0.21.1)\n",
            "Requirement already satisfied: safetensors>=0.4.3 in /usr/local/lib/python3.11/dist-packages (from transformers) (0.5.3)\n",
            "Requirement already satisfied: tqdm>=4.27 in /usr/local/lib/python3.11/dist-packages (from transformers) (4.67.1)\n",
            "Requirement already satisfied: python-dateutil>=2.8.2 in /usr/local/lib/python3.11/dist-packages (from pandas) (2.8.2)\n",
            "Requirement already satisfied: pytz>=2020.1 in /usr/local/lib/python3.11/dist-packages (from pandas) (2025.2)\n",
            "Requirement already satisfied: tzdata>=2022.7 in /usr/local/lib/python3.11/dist-packages (from pandas) (2025.2)\n",
            "Requirement already satisfied: fsspec>=2023.5.0 in /usr/local/lib/python3.11/dist-packages (from huggingface-hub<1.0,>=0.30.0->transformers) (2025.3.2)\n",
            "Requirement already satisfied: typing-extensions>=3.7.4.3 in /usr/local/lib/python3.11/dist-packages (from huggingface-hub<1.0,>=0.30.0->transformers) (4.13.2)\n",
            "Requirement already satisfied: six>=1.5 in /usr/local/lib/python3.11/dist-packages (from python-dateutil>=2.8.2->pandas) (1.17.0)\n",
            "Requirement already satisfied: charset-normalizer<4,>=2 in /usr/local/lib/python3.11/dist-packages (from requests->transformers) (3.4.1)\n",
            "Requirement already satisfied: idna<4,>=2.5 in /usr/local/lib/python3.11/dist-packages (from requests->transformers) (3.10)\n",
            "Requirement already satisfied: urllib3<3,>=1.21.1 in /usr/local/lib/python3.11/dist-packages (from requests->transformers) (2.3.0)\n",
            "Requirement already satisfied: certifi>=2017.4.17 in /usr/local/lib/python3.11/dist-packages (from requests->transformers) (2025.1.31)\n"
          ]
        },
        {
          "output_type": "stream",
          "name": "stderr",
          "text": [
            "Device set to use cpu\n"
          ]
        },
        {
          "output_type": "stream",
          "name": "stdout",
          "text": [
            "Dataset saved as big_data_reviews.csv\n",
            "Hugging Face Model Accuracy: 1.00, Execution Time: 1.39 seconds\n"
          ]
        }
      ]
    }
  ]
}